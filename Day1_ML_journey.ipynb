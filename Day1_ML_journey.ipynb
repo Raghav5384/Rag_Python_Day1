{
  "nbformat": 4,
  "nbformat_minor": 0,
  "metadata": {
    "colab": {
      "provenance": [],
      "include_colab_link": true
    },
    "kernelspec": {
      "name": "python3",
      "display_name": "Python 3"
    },
    "language_info": {
      "name": "python"
    }
  },
  "cells": [
    {
      "cell_type": "markdown",
      "metadata": {
        "id": "view-in-github",
        "colab_type": "text"
      },
      "source": [
        "<a href=\"https://colab.research.google.com/github/Raghav5384/Rag_Python_Day1/blob/main/Day1_ML_journey.ipynb\" target=\"_parent\"><img src=\"https://colab.research.google.com/assets/colab-badge.svg\" alt=\"Open In Colab\"/></a>"
      ]
    },
    {
      "cell_type": "code",
      "execution_count": null,
      "metadata": {
        "colab": {
          "base_uri": "https://localhost:8080/"
        },
        "id": "HpmbKqI7jltH",
        "outputId": "3d699aab-c982-4777-9aaf-5c33326245ae"
      },
      "outputs": [
        {
          "output_type": "stream",
          "name": "stdout",
          "text": [
            "Welcome to Machine Learning course\n"
          ]
        }
      ],
      "source": [
        "print(\"Welcome to Machine Learning course\")"
      ]
    },
    {
      "cell_type": "code",
      "source": [],
      "metadata": {
        "id": "NXNFoHxRbB4k"
      },
      "execution_count": null,
      "outputs": []
    },
    {
      "cell_type": "code",
      "source": [
        "\n"
      ],
      "metadata": {
        "id": "34ZbDQBAxLWX",
        "colab": {
          "base_uri": "https://localhost:8080/"
        },
        "outputId": "27076393-e203-45c2-b2e6-de6486ef786d"
      },
      "execution_count": null,
      "outputs": [
        {
          "output_type": "execute_result",
          "data": {
            "text/plain": [
              "5"
            ]
          },
          "metadata": {},
          "execution_count": 4
        }
      ]
    },
    {
      "cell_type": "code",
      "source": [
        "a=100\n",
        "print(id(a))"
      ],
      "metadata": {
        "colab": {
          "base_uri": "https://localhost:8080/"
        },
        "id": "P9aN7F1nDuWq",
        "outputId": "164788d9-98b7-4e63-9090-8b6c69dba8b7"
      },
      "execution_count": null,
      "outputs": [
        {
          "output_type": "stream",
          "name": "stdout",
          "text": [
            "10754024\n"
          ]
        }
      ]
    },
    {
      "cell_type": "code",
      "source": [
        "a=400\n",
        "print(id(a))"
      ],
      "metadata": {
        "colab": {
          "base_uri": "https://localhost:8080/"
        },
        "id": "7_DgX3ypGnKg",
        "outputId": "07d051f9-09bc-4946-e3ea-1746da491a24"
      },
      "execution_count": null,
      "outputs": [
        {
          "output_type": "stream",
          "name": "stdout",
          "text": [
            "133084428087664\n"
          ]
        }
      ]
    },
    {
      "cell_type": "code",
      "source": [
        "a=10\n",
        "b=20\n",
        "c=30\n",
        "print(a,b,c)"
      ],
      "metadata": {
        "id": "UCXxWrrCHcOn",
        "outputId": "c9c3f43a-e907-4d86-aba5-926d37c9ea82",
        "colab": {
          "base_uri": "https://localhost:8080/"
        }
      },
      "execution_count": null,
      "outputs": [
        {
          "output_type": "stream",
          "name": "stdout",
          "text": [
            "10 20 30\n"
          ]
        }
      ]
    },
    {
      "cell_type": "code",
      "source": [
        "a=b=c=100\n",
        "print(id(b))"
      ],
      "metadata": {
        "id": "HcGQdHaAHlPg",
        "outputId": "f1bf8466-f3d3-4e86-83ac-76437bb37d8b",
        "colab": {
          "base_uri": "https://localhost:8080/"
        }
      },
      "execution_count": null,
      "outputs": [
        {
          "output_type": "stream",
          "name": "stdout",
          "text": [
            "10754024\n"
          ]
        }
      ]
    },
    {
      "cell_type": "code",
      "source": [
        "import keyword as kyw\n",
        "print(kyw.kwlist)\n"
      ],
      "metadata": {
        "id": "ImwaoxfcIFc3",
        "outputId": "f76fb542-af57-4e06-940b-cea5aa7954fc",
        "colab": {
          "base_uri": "https://localhost:8080/"
        }
      },
      "execution_count": null,
      "outputs": [
        {
          "output_type": "stream",
          "name": "stdout",
          "text": [
            "['False', 'None', 'True', 'and', 'as', 'assert', 'async', 'await', 'break', 'class', 'continue', 'def', 'del', 'elif', 'else', 'except', 'finally', 'for', 'from', 'global', 'if', 'import', 'in', 'is', 'lambda', 'nonlocal', 'not', 'or', 'pass', 'raise', 'return', 'try', 'while', 'with', 'yield']\n"
          ]
        }
      ]
    },
    {
      "cell_type": "code",
      "source": [
        "#list method\n",
        "s = [\"NTT DATA\"]\n",
        "print(s)"
      ],
      "metadata": {
        "id": "OG0WCTZ1IfCf",
        "colab": {
          "base_uri": "https://localhost:8080/"
        },
        "outputId": "7370915c-4aaf-41d9-8913-615ac30c9fde"
      },
      "execution_count": null,
      "outputs": [
        {
          "output_type": "stream",
          "name": "stdout",
          "text": [
            "['NTT DATA']\n"
          ]
        }
      ]
    },
    {
      "cell_type": "code",
      "source": [
        "l1 = [2,3,3,4,4,4,2,6,7,8,6,7]\n",
        "print(l1)"
      ],
      "metadata": {
        "id": "n6M-LwLoETve",
        "outputId": "b4ed4988-c905-4634-e183-1b2752162d05",
        "colab": {
          "base_uri": "https://localhost:8080/"
        }
      },
      "execution_count": null,
      "outputs": [
        {
          "output_type": "stream",
          "name": "stdout",
          "text": [
            "[2, 3, 3, 4, 4, 4, 2, 6, 7, 8, 6, 7]\n"
          ]
        }
      ]
    },
    {
      "cell_type": "code",
      "source": [
        "#Tuple method\n",
        "\n",
        "s = (\"NTT DATA\")\n",
        "t2 = tuple(s)\n",
        "print(t2)\n",
        "\n",
        "l1 = [10,20,30]\n",
        "print(l1)\n",
        "l2 = tuple(l1)\n",
        "print(l2)"
      ],
      "metadata": {
        "id": "nYiL4NoNKEnr",
        "outputId": "5322d88d-d409-4efa-8b16-f4dd943240c0",
        "colab": {
          "base_uri": "https://localhost:8080/"
        }
      },
      "execution_count": null,
      "outputs": [
        {
          "output_type": "stream",
          "name": "stdout",
          "text": [
            "('N', 'T', 'T', ' ', 'D', 'A', 'T', 'A')\n",
            "[10, 20, 30]\n",
            "(10, 20, 30)\n"
          ]
        }
      ]
    },
    {
      "cell_type": "code",
      "source": [
        "#Dictionary\n",
        "d1 = {\"name\": \"Ram\", \"age\": 30, \"city\": \"Blr\"}\n",
        "print(d1)\n",
        "print (type(d1))\n",
        "print(d1.keys())\n",
        "print(d1.values())\n",
        "\n",
        "print(d1.items())"
      ],
      "metadata": {
        "id": "5a6epM9ILb4C",
        "outputId": "2c030bd8-7d51-4e58-cf00-ebe6146ab873",
        "colab": {
          "base_uri": "https://localhost:8080/"
        }
      },
      "execution_count": null,
      "outputs": [
        {
          "output_type": "stream",
          "name": "stdout",
          "text": [
            "{'name': 'Ram', 'age': 30, 'city': 'Blr'}\n",
            "<class 'dict'>\n",
            "dict_keys(['name', 'age', 'city'])\n",
            "dict_values(['Ram', 30, 'Blr'])\n",
            "dict_items([('name', 'Ram'), ('age', 30), ('city', 'Blr')])\n"
          ]
        }
      ]
    },
    {
      "cell_type": "code",
      "source": [
        "# Create a Dictionary\n",
        "d1 = {2:100,\n",
        "      4:200,\n",
        "      6:300,\n",
        "      8:400,\n",
        "      10:500}\n",
        "print (d1)\n",
        "print (type(d1))\n",
        "\n",
        "print (d1[2])"
      ],
      "metadata": {
        "colab": {
          "base_uri": "https://localhost:8080/"
        },
        "id": "GXLp_4OtbDf0",
        "outputId": "59065095-ea7d-4138-998c-91d497e7fde8"
      },
      "execution_count": null,
      "outputs": [
        {
          "output_type": "stream",
          "name": "stdout",
          "text": [
            "{2: 100, 4: 200, 6: 300, 8: 400, 10: 500}\n",
            "<class 'dict'>\n",
            "100\n"
          ]
        }
      ]
    },
    {
      "cell_type": "code",
      "source": [
        "# using tuple as key in dictionary\n",
        "d4 = {(1,2): 100,\n",
        "      (3,4): 200,\n",
        "      (5,6): 300}\n",
        "\n",
        "print(d4)\n",
        "print(d4[(3,4)])"
      ],
      "metadata": {
        "colab": {
          "base_uri": "https://localhost:8080/"
        },
        "id": "Q7h8Lo7EcVhv",
        "outputId": "2ee83a6c-2c21-4432-f9d6-d31d3bea6c80"
      },
      "execution_count": null,
      "outputs": [
        {
          "output_type": "stream",
          "name": "stdout",
          "text": [
            "{(1, 2): 100, (3, 4): 200, (5, 6): 300}\n",
            "200\n"
          ]
        }
      ]
    },
    {
      "cell_type": "code",
      "source": [
        "# using tuple as key in dictionary , using different data types in key\n",
        "d4 = {3: 100,\n",
        "      (3,4): 200,\n",
        "      \"hi\": 300}\n",
        "\n",
        "print(d4)\n",
        "print(d4[\"hi\"])"
      ],
      "metadata": {
        "colab": {
          "base_uri": "https://localhost:8080/"
        },
        "id": "K_FeR40IeL5G",
        "outputId": "80d19988-d763-42a4-ae03-068af0a87d0f"
      },
      "execution_count": null,
      "outputs": [
        {
          "output_type": "stream",
          "name": "stdout",
          "text": [
            "{3: 100, (3, 4): 200, 'hi': 300}\n",
            "300\n"
          ]
        }
      ]
    },
    {
      "cell_type": "code",
      "source": [
        "# Iterating through a Dictionary (keys by default)\n",
        "d1 = {2:100,\n",
        "      4:200,\n",
        "      6:300,\n",
        "      8:400,\n",
        "      10:500}\n",
        "\n",
        "for key1 in d1:\n",
        "    print(key1)"
      ],
      "metadata": {
        "colab": {
          "base_uri": "https://localhost:8080/"
        },
        "id": "ipNAcZpdekhN",
        "outputId": "10fe23ce-f9ff-44d5-fcf3-c5faa4d4ba33"
      },
      "execution_count": null,
      "outputs": [
        {
          "output_type": "stream",
          "name": "stdout",
          "text": [
            "2\n",
            "4\n",
            "6\n",
            "8\n",
            "10\n"
          ]
        }
      ]
    },
    {
      "cell_type": "code",
      "source": [
        "# Iterating through a values\n",
        "d1 = {2:100,\n",
        "      4:200,\n",
        "      6:300,\n",
        "      8:400,\n",
        "      10:500}\n",
        "\n",
        "for value in d1.values():\n",
        "    print(value)"
      ],
      "metadata": {
        "colab": {
          "base_uri": "https://localhost:8080/"
        },
        "id": "AE1h-iBqfEJX",
        "outputId": "56ecda63-09ff-419d-832a-8ee5d15e3fa1"
      },
      "execution_count": null,
      "outputs": [
        {
          "output_type": "stream",
          "name": "stdout",
          "text": [
            "100\n",
            "200\n",
            "300\n",
            "400\n",
            "500\n"
          ]
        }
      ]
    },
    {
      "cell_type": "code",
      "source": [
        "# Iterating through a item (key, values)\n",
        "d1 = {2:100,\n",
        "      4:200,\n",
        "      6:300,\n",
        "      8:400,\n",
        "      10:500}\n",
        "\n",
        "for item in d1.items():\n",
        "    print(item)"
      ],
      "metadata": {
        "colab": {
          "base_uri": "https://localhost:8080/"
        },
        "id": "GVSz8Df1foOO",
        "outputId": "36acc126-c3fb-4ae0-d310-9203201be63d"
      },
      "execution_count": null,
      "outputs": [
        {
          "output_type": "stream",
          "name": "stdout",
          "text": [
            "(2, 100)\n",
            "(4, 200)\n",
            "(6, 300)\n",
            "(8, 400)\n",
            "(10, 500)\n"
          ]
        }
      ]
    },
    {
      "cell_type": "code",
      "source": [
        "#Functions -- Global and local variable\n",
        "n= 10\n",
        "\n",
        "def fun():\n",
        "    n=5 # Local variable\n",
        "    print(n)\n",
        "\n",
        "fun()\n",
        "print(n)"
      ],
      "metadata": {
        "id": "14xpdwB2jtKd",
        "colab": {
          "base_uri": "https://localhost:8080/"
        },
        "outputId": "b0b8d11c-96d3-45f0-8339-92dba17e073e"
      },
      "execution_count": 2,
      "outputs": [
        {
          "output_type": "stream",
          "name": "stdout",
          "text": [
            "5\n",
            "10\n"
          ]
        }
      ]
    },
    {
      "cell_type": "code",
      "source": [
        "#Functions -- Global and local variable\n",
        "n= 10\n",
        "\n",
        "def fun():\n",
        "    global n # Global variable\n",
        "    n = n+1\n",
        "    print(n)\n",
        "\n",
        "def test():\n",
        "    global n # Global variable\n",
        "    n= n+1\n",
        "    print(n)\n",
        "\n",
        "fun()\n",
        "test()\n",
        "print(n)"
      ],
      "metadata": {
        "colab": {
          "base_uri": "https://localhost:8080/"
        },
        "id": "2vB1ME0CEy24",
        "outputId": "9a4e305e-c310-41f8-bcf1-080d02afd0de"
      },
      "execution_count": 6,
      "outputs": [
        {
          "output_type": "stream",
          "name": "stdout",
          "text": [
            "11\n",
            "12\n",
            "12\n"
          ]
        }
      ]
    },
    {
      "cell_type": "code",
      "source": [
        "#Default arguments\n",
        "\n",
        "def student (name, age, m1, m2, m3, college=\"UVCE\"):\n",
        "\n",
        "    print (name,age,m1,m2,m3,college)\n",
        "\n",
        "\n",
        "student(name=\"John\",age=21, m1=90, m2=78, m3=86)\n",
        "student(name=\"Mary\",age=21, m1=70, m2=88, m3=96, college=\"SVCE\")"
      ],
      "metadata": {
        "colab": {
          "base_uri": "https://localhost:8080/"
        },
        "id": "7Sa61flJQ0dW",
        "outputId": "83a2eec5-ed6b-4c6d-d92b-04ed15b47759"
      },
      "execution_count": 10,
      "outputs": [
        {
          "output_type": "stream",
          "name": "stdout",
          "text": [
            "John 21 90 78 86 UVCE\n",
            "Mary 21 70 88 96 SVCE\n"
          ]
        }
      ]
    },
    {
      "cell_type": "code",
      "source": [
        "#Variable length arguments\n",
        "\n",
        "def sum (*a):\n",
        "    print(a)\n",
        "\n",
        "sum(2,3)\n",
        "sum(4,7,5)\n",
        "sum (8,9)\n"
      ],
      "metadata": {
        "colab": {
          "base_uri": "https://localhost:8080/"
        },
        "id": "NbD0XfW2T0TG",
        "outputId": "8969d2b9-7e15-4888-96a9-4b0b064be00f"
      },
      "execution_count": 12,
      "outputs": [
        {
          "output_type": "stream",
          "name": "stdout",
          "text": [
            "(2, 3)\n",
            "(4, 7, 5)\n",
            "(8, 9)\n"
          ]
        }
      ]
    }
  ]
}