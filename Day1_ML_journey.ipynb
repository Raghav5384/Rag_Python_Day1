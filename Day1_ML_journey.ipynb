{
  "nbformat": 4,
  "nbformat_minor": 0,
  "metadata": {
    "colab": {
      "provenance": [],
      "include_colab_link": true
    },
    "kernelspec": {
      "name": "python3",
      "display_name": "Python 3"
    },
    "language_info": {
      "name": "python"
    }
  },
  "cells": [
    {
      "cell_type": "markdown",
      "metadata": {
        "id": "view-in-github",
        "colab_type": "text"
      },
      "source": [
        "<a href=\"https://colab.research.google.com/github/Raghav5384/Rag_Python_Day1/blob/main/Day1_ML_journey.ipynb\" target=\"_parent\"><img src=\"https://colab.research.google.com/assets/colab-badge.svg\" alt=\"Open In Colab\"/></a>"
      ]
    },
    {
      "cell_type": "code",
      "execution_count": null,
      "metadata": {
        "colab": {
          "base_uri": "https://localhost:8080/"
        },
        "id": "HpmbKqI7jltH",
        "outputId": "3d699aab-c982-4777-9aaf-5c33326245ae"
      },
      "outputs": [
        {
          "output_type": "stream",
          "name": "stdout",
          "text": [
            "Welcome to Machine Learning course\n"
          ]
        }
      ],
      "source": [
        "print(\"Welcome to Machine Learning course\")"
      ]
    },
    {
      "cell_type": "code",
      "source": [],
      "metadata": {
        "id": "NXNFoHxRbB4k"
      },
      "execution_count": null,
      "outputs": []
    },
    {
      "cell_type": "code",
      "source": [
        "\n"
      ],
      "metadata": {
        "id": "34ZbDQBAxLWX",
        "colab": {
          "base_uri": "https://localhost:8080/"
        },
        "outputId": "27076393-e203-45c2-b2e6-de6486ef786d"
      },
      "execution_count": null,
      "outputs": [
        {
          "output_type": "execute_result",
          "data": {
            "text/plain": [
              "5"
            ]
          },
          "metadata": {},
          "execution_count": 4
        }
      ]
    },
    {
      "cell_type": "code",
      "source": [
        "a=100\n",
        "print(id(a))"
      ],
      "metadata": {
        "colab": {
          "base_uri": "https://localhost:8080/"
        },
        "id": "P9aN7F1nDuWq",
        "outputId": "164788d9-98b7-4e63-9090-8b6c69dba8b7"
      },
      "execution_count": null,
      "outputs": [
        {
          "output_type": "stream",
          "name": "stdout",
          "text": [
            "10754024\n"
          ]
        }
      ]
    },
    {
      "cell_type": "code",
      "source": [
        "a=400\n",
        "print(id(a))"
      ],
      "metadata": {
        "colab": {
          "base_uri": "https://localhost:8080/"
        },
        "id": "7_DgX3ypGnKg",
        "outputId": "07d051f9-09bc-4946-e3ea-1746da491a24"
      },
      "execution_count": null,
      "outputs": [
        {
          "output_type": "stream",
          "name": "stdout",
          "text": [
            "133084428087664\n"
          ]
        }
      ]
    },
    {
      "cell_type": "code",
      "source": [
        "a=10\n",
        "b=20\n",
        "c=30\n",
        "print(a,b,c)"
      ],
      "metadata": {
        "id": "UCXxWrrCHcOn",
        "outputId": "c9c3f43a-e907-4d86-aba5-926d37c9ea82",
        "colab": {
          "base_uri": "https://localhost:8080/"
        }
      },
      "execution_count": null,
      "outputs": [
        {
          "output_type": "stream",
          "name": "stdout",
          "text": [
            "10 20 30\n"
          ]
        }
      ]
    },
    {
      "cell_type": "code",
      "source": [
        "a=b=c=100\n",
        "print(id(b))"
      ],
      "metadata": {
        "id": "HcGQdHaAHlPg",
        "outputId": "f1bf8466-f3d3-4e86-83ac-76437bb37d8b",
        "colab": {
          "base_uri": "https://localhost:8080/"
        }
      },
      "execution_count": null,
      "outputs": [
        {
          "output_type": "stream",
          "name": "stdout",
          "text": [
            "10754024\n"
          ]
        }
      ]
    },
    {
      "cell_type": "code",
      "source": [
        "import keyword as kyw\n",
        "print(kyw.kwlist)\n"
      ],
      "metadata": {
        "id": "ImwaoxfcIFc3",
        "outputId": "f76fb542-af57-4e06-940b-cea5aa7954fc",
        "colab": {
          "base_uri": "https://localhost:8080/"
        }
      },
      "execution_count": null,
      "outputs": [
        {
          "output_type": "stream",
          "name": "stdout",
          "text": [
            "['False', 'None', 'True', 'and', 'as', 'assert', 'async', 'await', 'break', 'class', 'continue', 'def', 'del', 'elif', 'else', 'except', 'finally', 'for', 'from', 'global', 'if', 'import', 'in', 'is', 'lambda', 'nonlocal', 'not', 'or', 'pass', 'raise', 'return', 'try', 'while', 'with', 'yield']\n"
          ]
        }
      ]
    },
    {
      "cell_type": "code",
      "source": [
        "#list method\n",
        "s = [\"NTT DATA\"]\n",
        "print(s)"
      ],
      "metadata": {
        "id": "OG0WCTZ1IfCf",
        "colab": {
          "base_uri": "https://localhost:8080/"
        },
        "outputId": "7370915c-4aaf-41d9-8913-615ac30c9fde"
      },
      "execution_count": null,
      "outputs": [
        {
          "output_type": "stream",
          "name": "stdout",
          "text": [
            "['NTT DATA']\n"
          ]
        }
      ]
    },
    {
      "cell_type": "code",
      "source": [
        "l1 = [2,3,3,4,4,4,2,6,7,8,6,7]\n",
        "print(l1)"
      ],
      "metadata": {
        "id": "n6M-LwLoETve",
        "outputId": "b4ed4988-c905-4634-e183-1b2752162d05",
        "colab": {
          "base_uri": "https://localhost:8080/"
        }
      },
      "execution_count": null,
      "outputs": [
        {
          "output_type": "stream",
          "name": "stdout",
          "text": [
            "[2, 3, 3, 4, 4, 4, 2, 6, 7, 8, 6, 7]\n"
          ]
        }
      ]
    },
    {
      "cell_type": "code",
      "source": [
        "#Tuple method\n",
        "\n",
        "s = (\"NTT DATA\")\n",
        "t2 = tuple(s)\n",
        "print(t2)\n",
        "\n",
        "l1 = [10,20,30]\n",
        "print(l1)\n",
        "l2 = tuple(l1)\n",
        "print(l2)"
      ],
      "metadata": {
        "id": "nYiL4NoNKEnr",
        "outputId": "5322d88d-d409-4efa-8b16-f4dd943240c0",
        "colab": {
          "base_uri": "https://localhost:8080/"
        }
      },
      "execution_count": null,
      "outputs": [
        {
          "output_type": "stream",
          "name": "stdout",
          "text": [
            "('N', 'T', 'T', ' ', 'D', 'A', 'T', 'A')\n",
            "[10, 20, 30]\n",
            "(10, 20, 30)\n"
          ]
        }
      ]
    },
    {
      "cell_type": "code",
      "source": [
        "#Dictionary\n",
        "d1 = {\"name\": \"Ram\", \"age\": 30, \"city\": \"Blr\"}\n",
        "print(d1)\n",
        "print (type(d1))\n",
        "print(d1.keys())\n",
        "print(d1.values())\n",
        "\n",
        "print(d1.items())"
      ],
      "metadata": {
        "id": "5a6epM9ILb4C",
        "outputId": "2c030bd8-7d51-4e58-cf00-ebe6146ab873",
        "colab": {
          "base_uri": "https://localhost:8080/"
        }
      },
      "execution_count": null,
      "outputs": [
        {
          "output_type": "stream",
          "name": "stdout",
          "text": [
            "{'name': 'Ram', 'age': 30, 'city': 'Blr'}\n",
            "<class 'dict'>\n",
            "dict_keys(['name', 'age', 'city'])\n",
            "dict_values(['Ram', 30, 'Blr'])\n",
            "dict_items([('name', 'Ram'), ('age', 30), ('city', 'Blr')])\n"
          ]
        }
      ]
    },
    {
      "cell_type": "code",
      "source": [
        "# Create a Dictionary\n",
        "d1 = {2:100,\n",
        "      4:200,\n",
        "      6:300,\n",
        "      8:400,\n",
        "      10:500}\n",
        "print (d1)\n",
        "print (type(d1))\n",
        "\n",
        "print (d1[2])"
      ],
      "metadata": {
        "colab": {
          "base_uri": "https://localhost:8080/"
        },
        "id": "GXLp_4OtbDf0",
        "outputId": "59065095-ea7d-4138-998c-91d497e7fde8"
      },
      "execution_count": null,
      "outputs": [
        {
          "output_type": "stream",
          "name": "stdout",
          "text": [
            "{2: 100, 4: 200, 6: 300, 8: 400, 10: 500}\n",
            "<class 'dict'>\n",
            "100\n"
          ]
        }
      ]
    },
    {
      "cell_type": "code",
      "source": [
        "# using tuple as key in dictionary\n",
        "d4 = {(1,2): 100,\n",
        "      (3,4): 200,\n",
        "      (5,6): 300}\n",
        "\n",
        "print(d4)\n",
        "print(d4[(3,4)])"
      ],
      "metadata": {
        "colab": {
          "base_uri": "https://localhost:8080/"
        },
        "id": "Q7h8Lo7EcVhv",
        "outputId": "2ee83a6c-2c21-4432-f9d6-d31d3bea6c80"
      },
      "execution_count": null,
      "outputs": [
        {
          "output_type": "stream",
          "name": "stdout",
          "text": [
            "{(1, 2): 100, (3, 4): 200, (5, 6): 300}\n",
            "200\n"
          ]
        }
      ]
    },
    {
      "cell_type": "code",
      "source": [
        "# using tuple as key in dictionary , using different data types in key\n",
        "d4 = {3: 100,\n",
        "      (3,4): 200,\n",
        "      \"hi\": 300}\n",
        "\n",
        "print(d4)\n",
        "print(d4[\"hi\"])"
      ],
      "metadata": {
        "colab": {
          "base_uri": "https://localhost:8080/"
        },
        "id": "K_FeR40IeL5G",
        "outputId": "80d19988-d763-42a4-ae03-068af0a87d0f"
      },
      "execution_count": null,
      "outputs": [
        {
          "output_type": "stream",
          "name": "stdout",
          "text": [
            "{3: 100, (3, 4): 200, 'hi': 300}\n",
            "300\n"
          ]
        }
      ]
    },
    {
      "cell_type": "code",
      "source": [
        "# Iterating through a Dictionary (keys by default)\n",
        "d1 = {2:100,\n",
        "      4:200,\n",
        "      6:300,\n",
        "      8:400,\n",
        "      10:500}\n",
        "\n",
        "for key1 in d1:\n",
        "    print(key1)"
      ],
      "metadata": {
        "colab": {
          "base_uri": "https://localhost:8080/"
        },
        "id": "ipNAcZpdekhN",
        "outputId": "10fe23ce-f9ff-44d5-fcf3-c5faa4d4ba33"
      },
      "execution_count": null,
      "outputs": [
        {
          "output_type": "stream",
          "name": "stdout",
          "text": [
            "2\n",
            "4\n",
            "6\n",
            "8\n",
            "10\n"
          ]
        }
      ]
    },
    {
      "cell_type": "code",
      "source": [
        "# Iterating through a values\n",
        "d1 = {2:100,\n",
        "      4:200,\n",
        "      6:300,\n",
        "      8:400,\n",
        "      10:500}\n",
        "\n",
        "for value in d1.values():\n",
        "    print(value)"
      ],
      "metadata": {
        "colab": {
          "base_uri": "https://localhost:8080/"
        },
        "id": "AE1h-iBqfEJX",
        "outputId": "56ecda63-09ff-419d-832a-8ee5d15e3fa1"
      },
      "execution_count": null,
      "outputs": [
        {
          "output_type": "stream",
          "name": "stdout",
          "text": [
            "100\n",
            "200\n",
            "300\n",
            "400\n",
            "500\n"
          ]
        }
      ]
    },
    {
      "cell_type": "code",
      "source": [
        "# Iterating through a item (key, values)\n",
        "d1 = {2:100,\n",
        "      4:200,\n",
        "      6:300,\n",
        "      8:400,\n",
        "      10:500}\n",
        "\n",
        "for item in d1.items():\n",
        "    print(item)"
      ],
      "metadata": {
        "colab": {
          "base_uri": "https://localhost:8080/"
        },
        "id": "GVSz8Df1foOO",
        "outputId": "36acc126-c3fb-4ae0-d310-9203201be63d"
      },
      "execution_count": null,
      "outputs": [
        {
          "output_type": "stream",
          "name": "stdout",
          "text": [
            "(2, 100)\n",
            "(4, 200)\n",
            "(6, 300)\n",
            "(8, 400)\n",
            "(10, 500)\n"
          ]
        }
      ]
    },
    {
      "cell_type": "code",
      "source": [
        "#Functions -- Global and local variable\n",
        "n= 10\n",
        "\n",
        "def fun():\n",
        "    n=5 # Local variable\n",
        "    print(n)\n",
        "\n",
        "fun()\n",
        "print(n)"
      ],
      "metadata": {
        "id": "14xpdwB2jtKd",
        "colab": {
          "base_uri": "https://localhost:8080/"
        },
        "outputId": "b0b8d11c-96d3-45f0-8339-92dba17e073e"
      },
      "execution_count": null,
      "outputs": [
        {
          "output_type": "stream",
          "name": "stdout",
          "text": [
            "5\n",
            "10\n"
          ]
        }
      ]
    },
    {
      "cell_type": "code",
      "source": [
        "#Functions -- Global and local variable\n",
        "n= 10\n",
        "\n",
        "def fun():\n",
        "    global n # Global variable\n",
        "    n = n+1\n",
        "    print(n)\n",
        "\n",
        "def test():\n",
        "    global n # Global variable\n",
        "    n= n+1\n",
        "    print(n)\n",
        "\n",
        "fun()\n",
        "test()\n",
        "print(n)"
      ],
      "metadata": {
        "colab": {
          "base_uri": "https://localhost:8080/"
        },
        "id": "2vB1ME0CEy24",
        "outputId": "9a4e305e-c310-41f8-bcf1-080d02afd0de"
      },
      "execution_count": null,
      "outputs": [
        {
          "output_type": "stream",
          "name": "stdout",
          "text": [
            "11\n",
            "12\n",
            "12\n"
          ]
        }
      ]
    },
    {
      "cell_type": "code",
      "source": [
        "#Default arguments\n",
        "\n",
        "def student (name, age, m1, m2, m3, college=\"UVCE\"):\n",
        "\n",
        "    print (name,age,m1,m2,m3,college)\n",
        "\n",
        "\n",
        "student(name=\"John\",age=21, m1=90, m2=78, m3=86)\n",
        "student(name=\"Mary\",age=21, m1=70, m2=88, m3=96, college=\"SVCE\")"
      ],
      "metadata": {
        "colab": {
          "base_uri": "https://localhost:8080/"
        },
        "id": "7Sa61flJQ0dW",
        "outputId": "83a2eec5-ed6b-4c6d-d92b-04ed15b47759"
      },
      "execution_count": null,
      "outputs": [
        {
          "output_type": "stream",
          "name": "stdout",
          "text": [
            "John 21 90 78 86 UVCE\n",
            "Mary 21 70 88 96 SVCE\n"
          ]
        }
      ]
    },
    {
      "cell_type": "code",
      "source": [
        "#Variable length arguments\n",
        "\n",
        "def sum (*a):\n",
        "    print(a)\n",
        "\n",
        "sum(2,3)\n",
        "sum(4,7,5)\n",
        "sum (8,9)\n"
      ],
      "metadata": {
        "colab": {
          "base_uri": "https://localhost:8080/"
        },
        "id": "NbD0XfW2T0TG",
        "outputId": "8969d2b9-7e15-4888-96a9-4b0b064be00f"
      },
      "execution_count": null,
      "outputs": [
        {
          "output_type": "stream",
          "name": "stdout",
          "text": [
            "(2, 3)\n",
            "(4, 7, 5)\n",
            "(8, 9)\n"
          ]
        }
      ]
    },
    {
      "cell_type": "code",
      "source": [
        "#Variable length Positional arguments\n",
        "def sum(*a):\n",
        "    for i in a :\n",
        "      s = s+i\n",
        "      print(s)\n",
        "\n",
        "\n",
        "sum(2,3)\n",
        "sum(4,7,5)\n",
        "sum (8,9)\n",
        "\n"
      ],
      "metadata": {
        "id": "3h9KKosOSmNp",
        "outputId": "24a6e125-cb7c-416f-e65d-3aac55ab587d",
        "colab": {
          "base_uri": "https://localhost:8080/",
          "height": 332
        }
      },
      "execution_count": null,
      "outputs": [
        {
          "output_type": "error",
          "ename": "UnboundLocalError",
          "evalue": "cannot access local variable 's' where it is not associated with a value",
          "traceback": [
            "\u001b[0;31m---------------------------------------------------------------------------\u001b[0m",
            "\u001b[0;31mUnboundLocalError\u001b[0m                         Traceback (most recent call last)",
            "\u001b[0;32m<ipython-input-6-1dcd4845acd4>\u001b[0m in \u001b[0;36m<cell line: 0>\u001b[0;34m()\u001b[0m\n\u001b[1;32m      6\u001b[0m \u001b[0;34m\u001b[0m\u001b[0m\n\u001b[1;32m      7\u001b[0m \u001b[0;34m\u001b[0m\u001b[0m\n\u001b[0;32m----> 8\u001b[0;31m \u001b[0msum\u001b[0m\u001b[0;34m(\u001b[0m\u001b[0;36m2\u001b[0m\u001b[0;34m,\u001b[0m\u001b[0;36m3\u001b[0m\u001b[0;34m)\u001b[0m\u001b[0;34m\u001b[0m\u001b[0;34m\u001b[0m\u001b[0m\n\u001b[0m\u001b[1;32m      9\u001b[0m \u001b[0msum\u001b[0m\u001b[0;34m(\u001b[0m\u001b[0;36m4\u001b[0m\u001b[0;34m,\u001b[0m\u001b[0;36m7\u001b[0m\u001b[0;34m,\u001b[0m\u001b[0;36m5\u001b[0m\u001b[0;34m)\u001b[0m\u001b[0;34m\u001b[0m\u001b[0;34m\u001b[0m\u001b[0m\n\u001b[1;32m     10\u001b[0m \u001b[0msum\u001b[0m \u001b[0;34m(\u001b[0m\u001b[0;36m8\u001b[0m\u001b[0;34m,\u001b[0m\u001b[0;36m9\u001b[0m\u001b[0;34m)\u001b[0m\u001b[0;34m\u001b[0m\u001b[0;34m\u001b[0m\u001b[0m\n",
            "\u001b[0;32m<ipython-input-6-1dcd4845acd4>\u001b[0m in \u001b[0;36msum\u001b[0;34m(*a)\u001b[0m\n\u001b[1;32m      2\u001b[0m \u001b[0;32mdef\u001b[0m \u001b[0msum\u001b[0m\u001b[0;34m(\u001b[0m\u001b[0;34m*\u001b[0m\u001b[0ma\u001b[0m\u001b[0;34m)\u001b[0m\u001b[0;34m:\u001b[0m\u001b[0;34m\u001b[0m\u001b[0;34m\u001b[0m\u001b[0m\n\u001b[1;32m      3\u001b[0m     \u001b[0;32mfor\u001b[0m \u001b[0mi\u001b[0m \u001b[0;32min\u001b[0m \u001b[0ma\u001b[0m \u001b[0;34m:\u001b[0m\u001b[0;34m\u001b[0m\u001b[0;34m\u001b[0m\u001b[0m\n\u001b[0;32m----> 4\u001b[0;31m       \u001b[0ms\u001b[0m \u001b[0;34m=\u001b[0m \u001b[0ms\u001b[0m\u001b[0;34m+\u001b[0m\u001b[0mi\u001b[0m\u001b[0;34m\u001b[0m\u001b[0;34m\u001b[0m\u001b[0m\n\u001b[0m\u001b[1;32m      5\u001b[0m       \u001b[0mprint\u001b[0m\u001b[0;34m(\u001b[0m\u001b[0ms\u001b[0m\u001b[0;34m)\u001b[0m\u001b[0;34m\u001b[0m\u001b[0;34m\u001b[0m\u001b[0m\n\u001b[1;32m      6\u001b[0m \u001b[0;34m\u001b[0m\u001b[0m\n",
            "\u001b[0;31mUnboundLocalError\u001b[0m: cannot access local variable 's' where it is not associated with a value"
          ]
        }
      ]
    },
    {
      "cell_type": "code",
      "source": [
        "#Variable length Positional and Keyword arguments\n",
        "def add(*num, **nums):\n",
        "    print(sum(num))\n",
        "#    print(sum(num.values()))\n",
        "\n",
        "add(10,20,30,40, n1=100, n2=200, n3=300)"
      ],
      "metadata": {
        "id": "hSxc3cBGTtGj",
        "outputId": "afbc480d-b019-4118-e2f1-983d9fa369b1",
        "colab": {
          "base_uri": "https://localhost:8080/",
          "height": 321
        }
      },
      "execution_count": null,
      "outputs": [
        {
          "output_type": "error",
          "ename": "UnboundLocalError",
          "evalue": "cannot access local variable 's' where it is not associated with a value",
          "traceback": [
            "\u001b[0;31m---------------------------------------------------------------------------\u001b[0m",
            "\u001b[0;31mUnboundLocalError\u001b[0m                         Traceback (most recent call last)",
            "\u001b[0;32m<ipython-input-7-4b9dfe604371>\u001b[0m in \u001b[0;36m<cell line: 0>\u001b[0;34m()\u001b[0m\n\u001b[1;32m      4\u001b[0m \u001b[0;31m#    print(sum(num.values()))\u001b[0m\u001b[0;34m\u001b[0m\u001b[0;34m\u001b[0m\u001b[0m\n\u001b[1;32m      5\u001b[0m \u001b[0;34m\u001b[0m\u001b[0m\n\u001b[0;32m----> 6\u001b[0;31m \u001b[0madd\u001b[0m\u001b[0;34m(\u001b[0m\u001b[0;36m10\u001b[0m\u001b[0;34m,\u001b[0m\u001b[0;36m20\u001b[0m\u001b[0;34m,\u001b[0m\u001b[0;36m30\u001b[0m\u001b[0;34m,\u001b[0m\u001b[0;36m40\u001b[0m\u001b[0;34m,\u001b[0m \u001b[0mn1\u001b[0m\u001b[0;34m=\u001b[0m\u001b[0;36m100\u001b[0m\u001b[0;34m,\u001b[0m \u001b[0mn2\u001b[0m\u001b[0;34m=\u001b[0m\u001b[0;36m200\u001b[0m\u001b[0;34m,\u001b[0m \u001b[0mn3\u001b[0m\u001b[0;34m=\u001b[0m\u001b[0;36m300\u001b[0m\u001b[0;34m)\u001b[0m\u001b[0;34m\u001b[0m\u001b[0;34m\u001b[0m\u001b[0m\n\u001b[0m",
            "\u001b[0;32m<ipython-input-7-4b9dfe604371>\u001b[0m in \u001b[0;36madd\u001b[0;34m(*num, **nums)\u001b[0m\n\u001b[1;32m      1\u001b[0m \u001b[0;31m#Variable length Positional and Keyword arguments\u001b[0m\u001b[0;34m\u001b[0m\u001b[0;34m\u001b[0m\u001b[0m\n\u001b[1;32m      2\u001b[0m \u001b[0;32mdef\u001b[0m \u001b[0madd\u001b[0m\u001b[0;34m(\u001b[0m\u001b[0;34m*\u001b[0m\u001b[0mnum\u001b[0m\u001b[0;34m,\u001b[0m \u001b[0;34m**\u001b[0m\u001b[0mnums\u001b[0m\u001b[0;34m)\u001b[0m\u001b[0;34m:\u001b[0m\u001b[0;34m\u001b[0m\u001b[0;34m\u001b[0m\u001b[0m\n\u001b[0;32m----> 3\u001b[0;31m     \u001b[0mprint\u001b[0m\u001b[0;34m(\u001b[0m\u001b[0msum\u001b[0m\u001b[0;34m(\u001b[0m\u001b[0mnum\u001b[0m\u001b[0;34m)\u001b[0m\u001b[0;34m)\u001b[0m\u001b[0;34m\u001b[0m\u001b[0;34m\u001b[0m\u001b[0m\n\u001b[0m\u001b[1;32m      4\u001b[0m \u001b[0;31m#    print(sum(num.values()))\u001b[0m\u001b[0;34m\u001b[0m\u001b[0;34m\u001b[0m\u001b[0m\n\u001b[1;32m      5\u001b[0m \u001b[0;34m\u001b[0m\u001b[0m\n",
            "\u001b[0;32m<ipython-input-6-1dcd4845acd4>\u001b[0m in \u001b[0;36msum\u001b[0;34m(*a)\u001b[0m\n\u001b[1;32m      2\u001b[0m \u001b[0;32mdef\u001b[0m \u001b[0msum\u001b[0m\u001b[0;34m(\u001b[0m\u001b[0;34m*\u001b[0m\u001b[0ma\u001b[0m\u001b[0;34m)\u001b[0m\u001b[0;34m:\u001b[0m\u001b[0;34m\u001b[0m\u001b[0;34m\u001b[0m\u001b[0m\n\u001b[1;32m      3\u001b[0m     \u001b[0;32mfor\u001b[0m \u001b[0mi\u001b[0m \u001b[0;32min\u001b[0m \u001b[0ma\u001b[0m \u001b[0;34m:\u001b[0m\u001b[0;34m\u001b[0m\u001b[0;34m\u001b[0m\u001b[0m\n\u001b[0;32m----> 4\u001b[0;31m       \u001b[0ms\u001b[0m \u001b[0;34m=\u001b[0m \u001b[0ms\u001b[0m\u001b[0;34m+\u001b[0m\u001b[0mi\u001b[0m\u001b[0;34m\u001b[0m\u001b[0;34m\u001b[0m\u001b[0m\n\u001b[0m\u001b[1;32m      5\u001b[0m       \u001b[0mprint\u001b[0m\u001b[0;34m(\u001b[0m\u001b[0ms\u001b[0m\u001b[0;34m)\u001b[0m\u001b[0;34m\u001b[0m\u001b[0;34m\u001b[0m\u001b[0m\n\u001b[1;32m      6\u001b[0m \u001b[0;34m\u001b[0m\u001b[0m\n",
            "\u001b[0;31mUnboundLocalError\u001b[0m: cannot access local variable 's' where it is not associated with a value"
          ]
        }
      ]
    },
    {
      "cell_type": "code",
      "source": [
        "def student(name,clas,*parents_name,age,school='ABC',**marks):\n",
        "  print('Name: ',name)\n",
        "  print('class: ',clas)\n",
        "  print('Parents: ', parents_name)\n",
        "  print('Age: ',age)\n",
        "  print('Marks: ',marks)\n",
        "  print('School: ',school)\n",
        "\n",
        "student('Ravi',5,'A','B',age=12,eng=90,maths=87,science=91)"
      ],
      "metadata": {
        "id": "g3VvFWywXzu6",
        "outputId": "1486d3c3-ae11-432d-85af-dae594bb6485",
        "colab": {
          "base_uri": "https://localhost:8080/"
        }
      },
      "execution_count": null,
      "outputs": [
        {
          "output_type": "stream",
          "name": "stdout",
          "text": [
            "Name:  Ravi\n",
            "class:  5\n",
            "Parents:  ('A', 'B')\n",
            "Age:  12\n",
            "Marks:  {'eng': 90, 'maths': 87, 'science': 91}\n",
            "School:  ABC\n"
          ]
        }
      ]
    },
    {
      "cell_type": "code",
      "source": [
        "def test_var_args(name, *num, num1=10, **nums):\n",
        "  print(name)\n",
        "  print(num)\n",
        "  print(num1)\n",
        "  print(nums)\n",
        "\n",
        "test_var_args('ABC', 11, 12, 13, 14, num1=101, num2=102, num3=103, num4=104)"
      ],
      "metadata": {
        "id": "_ldG5114eNaf",
        "outputId": "caf8aa43-6ca4-493c-fdc4-d6475df57687",
        "colab": {
          "base_uri": "https://localhost:8080/"
        }
      },
      "execution_count": null,
      "outputs": [
        {
          "output_type": "stream",
          "name": "stdout",
          "text": [
            "ABC\n",
            "(11, 12, 13, 14)\n",
            "101\n",
            "{'num2': 102, 'num3': 103, 'num4': 104}\n"
          ]
        }
      ]
    },
    {
      "cell_type": "code",
      "source": [
        "*****\n",
        "Order of declaration:\n",
        "Positional arguments\n",
        "Variable positional arguments\n",
        "Keyword arguments\n",
        "Default arguments\n",
        "Variable Keyword arguments\n",
        "****\n"
      ],
      "metadata": {
        "id": "g_NRDSLseO7l"
      },
      "execution_count": null,
      "outputs": []
    },
    {
      "cell_type": "code",
      "source": [
        "#Lamda function\n",
        "var=lambda w,q,r : print(w,q,r)\n",
        "print(var(40,50,60))"
      ],
      "metadata": {
        "id": "8Kg1O1LSeZIU",
        "outputId": "a15ee8ed-65de-4549-8f07-0ebfeb73f0a5",
        "colab": {
          "base_uri": "https://localhost:8080/"
        }
      },
      "execution_count": null,
      "outputs": [
        {
          "output_type": "stream",
          "name": "stdout",
          "text": [
            "40 50 60\n",
            "None\n"
          ]
        }
      ]
    },
    {
      "cell_type": "code",
      "source": [
        "#Area of a circle using Lamda function\n",
        "\n",
        "area = lambda r : 3.14*r*r\n",
        "print(area(5))\n"
      ],
      "metadata": {
        "id": "yXfOglVjeiIv",
        "outputId": "b717132f-8fe2-4eb3-dece-f13c5d883ce8",
        "colab": {
          "base_uri": "https://localhost:8080/"
        }
      },
      "execution_count": null,
      "outputs": [
        {
          "output_type": "stream",
          "name": "stdout",
          "text": [
            "78.5\n"
          ]
        }
      ]
    },
    {
      "cell_type": "code",
      "source": [
        "#Class and Objects\n",
        "class calculator\n",
        " n1=10  #Attributes\n",
        " n2=0\n",
        " res =0\n",
        "\n",
        " def __init__(self,n1,n2):   #Methods\n",
        "   self.n1=0\n",
        "   self.n2=0\n",
        "   self.res=0\n",
        "\n",
        " def add(self, n1,n2):\n",
        "   pass\n",
        "\n",
        " def sub(self, n1,n2):\n",
        "   pass\n",
        "\n",
        " def mul(self, n1,n2):\n",
        "   pass\n",
        "\n",
        " def div(self, n1,n2):\n",
        "   pass\n",
        "\n",
        "\n",
        "   Obj1=calculator(10,20) # Obj1 creation\n",
        "   print(Obj.add(10,20))\n",
        "\n",
        "   Obj2=calculator(100,200) # Obj2 creation\n",
        "   print(Obj.sub(10,20))"
      ],
      "metadata": {
        "id": "LroPqp8Mk4kk"
      },
      "execution_count": null,
      "outputs": []
    },
    {
      "cell_type": "code",
      "source": [
        "class Dog:\n",
        "    species = \"Canine\"  # Class attribute\n",
        "\n",
        "    def __init__(self, name, age):\n",
        "        self.name = name  # Instance attribute\n",
        "        self.age = age  # Instance attribute\n",
        "\n",
        "\n",
        "dog1 = Dog(\"Buddy\", 3)      # Creating an object of the Dog class\n",
        "dog2 = Dog(\"Charlie\", 5)    # Create an instance of Dog\n",
        "\n",
        "print(dog1.name, dog1.age, dog1.species)  # Accessing instance and class attributes\n",
        "print(dog2.name, dog2.age, dog2.species)  # Accessing instance and class attributes\n",
        "\n",
        "print(Dog.species)    # Access class attribute directly"
      ],
      "metadata": {
        "colab": {
          "base_uri": "https://localhost:8080/"
        },
        "id": "YrJNcQ4xvnTK",
        "outputId": "ebb72a7c-1060-4a06-950e-956a27b2819e"
      },
      "execution_count": null,
      "outputs": [
        {
          "output_type": "stream",
          "name": "stdout",
          "text": [
            "Buddy 3 Canine\n",
            "Charlie 5 Canine\n",
            "Canine\n"
          ]
        }
      ]
    },
    {
      "cell_type": "code",
      "source": [
        "# Single Inheritance\n",
        "class Dog:\n",
        "    def __init__(self, name):\n",
        "        self.name = name\n",
        "\n",
        "    def display_name(self):\n",
        "        print(f\"Dog's Name: {self.name}\")\n",
        "\n",
        "class Labrador(Dog):  # Single Inheritance\n",
        "    def sound(self):\n",
        "        print(\"Labrador woofs\")\n",
        "\n",
        "# Multilevel Inheritance\n",
        "class GuideDog(Labrador):  # Multilevel Inheritance\n",
        "    def guide(self):\n",
        "        print(f\"{self.name}Guides the way!\")\n",
        "\n",
        "# Multiple Inheritance\n",
        "class Friendly:\n",
        "    def greet(self):\n",
        "        print(\"Friendly!\")\n",
        "\n",
        "class GoldenRetriever(Dog, Friendly):  # Multiple Inheritance\n",
        "    def sound(self):\n",
        "        print(\"Golden Retriever Barks\")\n",
        "\n",
        "# Example Usage\n",
        "lab = Labrador(\"Buddy\")\n",
        "lab.display_name()\n",
        "lab.sound()\n",
        "\n",
        "guide_dog = GuideDog(\"Max\")\n",
        "guide_dog.display_name()\n",
        "guide_dog.guide()\n",
        "\n",
        "retriever = GoldenRetriever(\"Charlie\")\n",
        "retriever.display_name()\n",
        "retriever.greet()\n",
        "retriever.sound()"
      ],
      "metadata": {
        "colab": {
          "base_uri": "https://localhost:8080/"
        },
        "id": "IbDUHEfhxg5g",
        "outputId": "5ae4e7ef-5084-4b82-f3be-8d20fbd5130d"
      },
      "execution_count": null,
      "outputs": [
        {
          "output_type": "stream",
          "name": "stdout",
          "text": [
            "Dog's Name: Buddy\n",
            "Labrador woofs\n",
            "Dog's Name: Max\n",
            "MaxGuides the way!\n",
            "Dog's Name: Charlie\n",
            "Friendly!\n",
            "Golden Retriever Barks\n"
          ]
        }
      ]
    },
    {
      "cell_type": "code",
      "source": [
        "# Polymorphism\n",
        "\n",
        "# Parent Class\n",
        "class Dog:\n",
        "    def sound(self):\n",
        "        print(\"dog sound\")  # Default implementation\n",
        "\n",
        "# Run-Time Polymorphism: Method Overriding\n",
        "class Labrador(Dog):\n",
        "    def sound(self):\n",
        "        print(\"Labrador woofs\")  # Overriding parent method\n",
        "\n",
        "class Beagle(Dog):\n",
        "    def sound(self):\n",
        "        print(\"Beagle Barks\")  # Overriding parent method\n",
        "\n",
        "# Compile-Time Polymorphism: Method Overloading Mimic\n",
        "class Calculator:\n",
        "    def add(self, a, b=0, c=0):\n",
        "        return a + b + c  # Supports multiple ways to call add()\n",
        "\n",
        "# Run-Time Polymorphism\n",
        "dogs = [Dog(), Labrador(), Beagle()]\n",
        "for dog in dogs:\n",
        "    dog.sound()  # Calls the appropriate method based on the object type\n",
        "\n",
        "\n",
        "# Compile-Time Polymorphism (Mimicked using default arguments)\n",
        "calc = Calculator()\n",
        "print(calc.add(5, 10))  # Two arguments\n",
        "print(calc.add(5, 10, 15))  # Three arguments"
      ],
      "metadata": {
        "colab": {
          "base_uri": "https://localhost:8080/"
        },
        "id": "7m5HoE3h6qK_",
        "outputId": "503908a1-e8d2-4697-ba37-9da2731f88aa"
      },
      "execution_count": null,
      "outputs": [
        {
          "output_type": "stream",
          "name": "stdout",
          "text": [
            "dog sound\n",
            "Labrador woofs\n",
            "Beagle Barks\n",
            "15\n",
            "30\n"
          ]
        }
      ]
    },
    {
      "cell_type": "code",
      "source": [
        "from abc import ABC, abstractmethod\n",
        "\n",
        "class Dog(ABC):  # Abstract Class\n",
        "    def __init__(self, name):\n",
        "        self.name = name\n",
        "\n",
        "    @abstractmethod\n",
        "    def sound(self):  # Abstract Method\n",
        "        pass\n",
        "\n",
        "    def display_name(self):  # Concrete Method\n",
        "        print(f\"Dog's Name: {self.name}\")\n",
        "\n",
        "class Labrador(Dog):  # Partial Abstraction\n",
        "    def sound(self):\n",
        "        print(\"Labrador Woof!\")\n",
        "\n",
        "class Beagle(Dog):  # Partial Abstraction\n",
        "    def sound(self):\n",
        "        print(\"Beagle Bark!\")\n",
        "\n",
        "# Example Usage\n",
        "dogs = [Labrador(\"Buddy\"), Beagle(\"Charlie\")]\n",
        "for dog in dogs:\n",
        "    dog.display_name()  # Calls concrete method\n",
        "    dog.sound()  # Calls implemented abstract method"
      ],
      "metadata": {
        "colab": {
          "base_uri": "https://localhost:8080/"
        },
        "id": "TEnmVb_fPdJe",
        "outputId": "7089b445-690e-4c9e-f1d6-f9e9eef56928"
      },
      "execution_count": null,
      "outputs": [
        {
          "output_type": "stream",
          "name": "stdout",
          "text": [
            "Dog's Name: Buddy\n",
            "Labrador Woof!\n",
            "Dog's Name: Charlie\n",
            "Beagle Bark!\n"
          ]
        }
      ]
    },
    {
      "cell_type": "code",
      "source": [
        "# Polymorphism\n",
        "class Hotel:\n",
        "  def __init__(self,name,rating,price):\n",
        "    self.name = name\n",
        "    self.rating = rating\n",
        "    self.price = price\n",
        "\n",
        "  def __gt__(self,other):\n",
        "    if self.price > other.price:\n",
        "      return True\n",
        "    else:\n",
        "      return False\n",
        "\n",
        "h1 = Hotel('A',3.5,3000)\n",
        "h2 = Hotel('B',4.2,4000)\n",
        "\n",
        "print(h1>h2)"
      ],
      "metadata": {
        "id": "XU2WhKWFl_UX",
        "outputId": "f413d72e-77eb-48bd-af02-474e9e7f79cd",
        "colab": {
          "base_uri": "https://localhost:8080/"
        }
      },
      "execution_count": 1,
      "outputs": [
        {
          "output_type": "stream",
          "name": "stdout",
          "text": [
            "False\n"
          ]
        }
      ]
    }
  ]
}